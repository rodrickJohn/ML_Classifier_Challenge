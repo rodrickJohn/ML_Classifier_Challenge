{
 "cells": [
  {
   "cell_type": "markdown",
   "metadata": {},
   "source": [
    "### Background"
   ]
  },
  {
   "cell_type": "markdown",
   "metadata": {},
   "source": [
    "We are provided with a dataset of customer transactions with other KYC and behavioral information attached. As the outcome of the transaction there was tracking on whether the transaction resulted into a complaint or not."
   ]
  },
  {
   "cell_type": "markdown",
   "metadata": {},
   "source": [
    "### Objective"
   ]
  },
  {
   "cell_type": "markdown",
   "metadata": {},
   "source": [
    "To develop a Machine Learning model to help predict whether customer will complain or not given a trail of transactional records"
   ]
  },
  {
   "cell_type": "markdown",
   "metadata": {},
   "source": [
    "### 1. Importing Important packages"
   ]
  },
  {
   "cell_type": "markdown",
   "metadata": {},
   "source": [
    "* <b>numpy</b> A python package for numerical analyses\n",
    "* <b>pandas</b> A python package for data analysis\n",
    "* <b>seaborn</b> A python package for visualizations"
   ]
  },
  {
   "cell_type": "code",
   "execution_count": 464,
   "metadata": {},
   "outputs": [],
   "source": [
    "# Load packages\n",
    "import numpy as np\n",
    "import pandas as pd\n",
    "import seaborn as sns"
   ]
  },
  {
   "cell_type": "markdown",
   "metadata": {},
   "source": [
    "### 2. Data Loading and Cleaning"
   ]
  },
  {
   "cell_type": "code",
   "execution_count": 465,
   "metadata": {},
   "outputs": [],
   "source": [
    "# Load data\n",
    "\n",
    "df = pd.read_csv('store_complains_DS Interview Data Set.csv')"
   ]
  },
  {
   "cell_type": "code",
   "execution_count": 466,
   "metadata": {},
   "outputs": [
    {
     "data": {
      "text/plain": [
       "Index(['customer_registration_number', 'merchandize_category',\n",
       "       'amount_deposited_via_counter', 'amount_deposited_via_card',\n",
       "       'balance_on_complaign_date', 'transaction_date', 'complaint_date',\n",
       "       'restaurant_points', 'fuel_points', 'groceries_points', 'toys_points',\n",
       "       'cash_back_points', 'electronics', 'complained', 'Order_tyPe', 'amount',\n",
       "       'quantity', 'card_vendor', 'used_coupon', 'product_discounted',\n",
       "       'cust_age', 'cust_gender'],\n",
       "      dtype='object')"
      ]
     },
     "execution_count": 466,
     "metadata": {},
     "output_type": "execute_result"
    }
   ],
   "source": [
    "# Visualize features\n",
    "df.columns"
   ]
  },
  {
   "cell_type": "code",
   "execution_count": 467,
   "metadata": {},
   "outputs": [
    {
     "data": {
      "text/html": [
       "<div>\n",
       "<style scoped>\n",
       "    .dataframe tbody tr th:only-of-type {\n",
       "        vertical-align: middle;\n",
       "    }\n",
       "\n",
       "    .dataframe tbody tr th {\n",
       "        vertical-align: top;\n",
       "    }\n",
       "\n",
       "    .dataframe thead th {\n",
       "        text-align: right;\n",
       "    }\n",
       "</style>\n",
       "<table border=\"1\" class=\"dataframe\">\n",
       "  <thead>\n",
       "    <tr style=\"text-align: right;\">\n",
       "      <th></th>\n",
       "      <th>customer_registration_number</th>\n",
       "      <th>merchandize_category</th>\n",
       "      <th>amount_deposited_via_counter</th>\n",
       "      <th>amount_deposited_via_card</th>\n",
       "      <th>balance_on_complaign_date</th>\n",
       "      <th>transaction_date</th>\n",
       "      <th>complaint_date</th>\n",
       "      <th>restaurant_points</th>\n",
       "      <th>fuel_points</th>\n",
       "      <th>groceries_points</th>\n",
       "      <th>...</th>\n",
       "      <th>electronics</th>\n",
       "      <th>complained</th>\n",
       "      <th>Order_tyPe</th>\n",
       "      <th>amount</th>\n",
       "      <th>quantity</th>\n",
       "      <th>card_vendor</th>\n",
       "      <th>used_coupon</th>\n",
       "      <th>product_discounted</th>\n",
       "      <th>cust_age</th>\n",
       "      <th>cust_gender</th>\n",
       "    </tr>\n",
       "  </thead>\n",
       "  <tbody>\n",
       "    <tr>\n",
       "      <td>0</td>\n",
       "      <td>64257fd79a53006421b72c3f</td>\n",
       "      <td>Breakfast</td>\n",
       "      <td>0.0</td>\n",
       "      <td>779.00</td>\n",
       "      <td>1272.00</td>\n",
       "      <td>2023-03-15</td>\n",
       "      <td>2023-03-29</td>\n",
       "      <td>0</td>\n",
       "      <td>0</td>\n",
       "      <td>0</td>\n",
       "      <td>...</td>\n",
       "      <td>0</td>\n",
       "      <td>YES</td>\n",
       "      <td>Other</td>\n",
       "      <td>1.0</td>\n",
       "      <td>1.0</td>\n",
       "      <td>Visa</td>\n",
       "      <td>No</td>\n",
       "      <td>no</td>\n",
       "      <td>49</td>\n",
       "      <td>Female</td>\n",
       "    </tr>\n",
       "    <tr>\n",
       "      <td>1</td>\n",
       "      <td>64257ffc9a53006421b72c40</td>\n",
       "      <td>Frozen</td>\n",
       "      <td>0.0</td>\n",
       "      <td>536.00</td>\n",
       "      <td>928.00</td>\n",
       "      <td>2023-03-15</td>\n",
       "      <td>2023-03-29</td>\n",
       "      <td>0</td>\n",
       "      <td>1</td>\n",
       "      <td>0</td>\n",
       "      <td>...</td>\n",
       "      <td>0</td>\n",
       "      <td>YES</td>\n",
       "      <td>Pickup</td>\n",
       "      <td>3000.0</td>\n",
       "      <td>1.0</td>\n",
       "      <td>Visa</td>\n",
       "      <td>No</td>\n",
       "      <td>no</td>\n",
       "      <td>82</td>\n",
       "      <td>Female</td>\n",
       "    </tr>\n",
       "    <tr>\n",
       "      <td>2</td>\n",
       "      <td>642580229a53006421b72c41</td>\n",
       "      <td>Alcohol</td>\n",
       "      <td>0.0</td>\n",
       "      <td>330225.00</td>\n",
       "      <td>177850.00</td>\n",
       "      <td>2023-03-15</td>\n",
       "      <td>2023-03-29</td>\n",
       "      <td>0</td>\n",
       "      <td>0</td>\n",
       "      <td>0</td>\n",
       "      <td>...</td>\n",
       "      <td>0</td>\n",
       "      <td>NO</td>\n",
       "      <td>Walk In</td>\n",
       "      <td>22000.0</td>\n",
       "      <td>1.0</td>\n",
       "      <td>Visa</td>\n",
       "      <td>No</td>\n",
       "      <td>no</td>\n",
       "      <td>35</td>\n",
       "      <td>Male</td>\n",
       "    </tr>\n",
       "    <tr>\n",
       "      <td>3</td>\n",
       "      <td>642580469a53006421b72c42</td>\n",
       "      <td>Baking</td>\n",
       "      <td>0.0</td>\n",
       "      <td>6215561.04</td>\n",
       "      <td>301542.04</td>\n",
       "      <td>2023-03-15</td>\n",
       "      <td>2023-03-29</td>\n",
       "      <td>3</td>\n",
       "      <td>0</td>\n",
       "      <td>1</td>\n",
       "      <td>...</td>\n",
       "      <td>0</td>\n",
       "      <td>NO</td>\n",
       "      <td>Walk In</td>\n",
       "      <td>1600000.0</td>\n",
       "      <td>5.0</td>\n",
       "      <td>Mastercard</td>\n",
       "      <td>No</td>\n",
       "      <td>YEs</td>\n",
       "      <td>95</td>\n",
       "      <td>Female</td>\n",
       "    </tr>\n",
       "    <tr>\n",
       "      <td>4</td>\n",
       "      <td>642580469a53006421b72c42</td>\n",
       "      <td>Alcohol</td>\n",
       "      <td>0.0</td>\n",
       "      <td>6215561.04</td>\n",
       "      <td>301542.04</td>\n",
       "      <td>2023-03-15</td>\n",
       "      <td>2023-03-29</td>\n",
       "      <td>3</td>\n",
       "      <td>0</td>\n",
       "      <td>1</td>\n",
       "      <td>...</td>\n",
       "      <td>0</td>\n",
       "      <td>NO</td>\n",
       "      <td>Walk In</td>\n",
       "      <td>1600000.0</td>\n",
       "      <td>5.0</td>\n",
       "      <td>Mastercard</td>\n",
       "      <td>No</td>\n",
       "      <td>YEs</td>\n",
       "      <td>95</td>\n",
       "      <td>Female</td>\n",
       "    </tr>\n",
       "  </tbody>\n",
       "</table>\n",
       "<p>5 rows × 22 columns</p>\n",
       "</div>"
      ],
      "text/plain": [
       "  customer_registration_number merchandize_category  \\\n",
       "0     64257fd79a53006421b72c3f            Breakfast   \n",
       "1     64257ffc9a53006421b72c40               Frozen   \n",
       "2     642580229a53006421b72c41              Alcohol   \n",
       "3     642580469a53006421b72c42               Baking   \n",
       "4     642580469a53006421b72c42              Alcohol   \n",
       "\n",
       "   amount_deposited_via_counter  amount_deposited_via_card  \\\n",
       "0                           0.0                     779.00   \n",
       "1                           0.0                     536.00   \n",
       "2                           0.0                  330225.00   \n",
       "3                           0.0                 6215561.04   \n",
       "4                           0.0                 6215561.04   \n",
       "\n",
       "   balance_on_complaign_date transaction_date complaint_date  \\\n",
       "0                    1272.00       2023-03-15     2023-03-29   \n",
       "1                     928.00       2023-03-15     2023-03-29   \n",
       "2                  177850.00       2023-03-15     2023-03-29   \n",
       "3                  301542.04       2023-03-15     2023-03-29   \n",
       "4                  301542.04       2023-03-15     2023-03-29   \n",
       "\n",
       "   restaurant_points  fuel_points  groceries_points  ...  electronics  \\\n",
       "0                  0            0                 0  ...            0   \n",
       "1                  0            1                 0  ...            0   \n",
       "2                  0            0                 0  ...            0   \n",
       "3                  3            0                 1  ...            0   \n",
       "4                  3            0                 1  ...            0   \n",
       "\n",
       "   complained  Order_tyPe     amount quantity  card_vendor  used_coupon  \\\n",
       "0         YES       Other        1.0      1.0         Visa           No   \n",
       "1         YES      Pickup     3000.0      1.0         Visa           No   \n",
       "2          NO     Walk In    22000.0      1.0         Visa           No   \n",
       "3          NO     Walk In  1600000.0      5.0   Mastercard           No   \n",
       "4          NO     Walk In  1600000.0      5.0   Mastercard           No   \n",
       "\n",
       "  product_discounted cust_age cust_gender  \n",
       "0                 no       49      Female  \n",
       "1                 no       82      Female  \n",
       "2                 no       35        Male  \n",
       "3                YEs       95      Female  \n",
       "4                YEs       95      Female  \n",
       "\n",
       "[5 rows x 22 columns]"
      ]
     },
     "execution_count": 467,
     "metadata": {},
     "output_type": "execute_result"
    }
   ],
   "source": [
    "# Preview dataframe\n",
    "df.head()"
   ]
  },
  {
   "cell_type": "code",
   "execution_count": 468,
   "metadata": {},
   "outputs": [
    {
     "data": {
      "text/plain": [
       "(31924, 22)"
      ]
     },
     "execution_count": 468,
     "metadata": {},
     "output_type": "execute_result"
    }
   ],
   "source": [
    "# Checking number of rows and columns\n",
    "df.shape"
   ]
  },
  {
   "cell_type": "code",
   "execution_count": 469,
   "metadata": {},
   "outputs": [
    {
     "name": "stdout",
     "output_type": "stream",
     "text": [
      "<class 'pandas.core.frame.DataFrame'>\n",
      "RangeIndex: 31924 entries, 0 to 31923\n",
      "Data columns (total 22 columns):\n",
      "customer_registration_number    31924 non-null object\n",
      "merchandize_category            26843 non-null object\n",
      "amount_deposited_via_counter    31924 non-null float64\n",
      "amount_deposited_via_card       31924 non-null float64\n",
      "balance_on_complaign_date       31924 non-null float64\n",
      "transaction_date                31924 non-null object\n",
      "complaint_date                  31924 non-null object\n",
      "restaurant_points               31924 non-null int64\n",
      "fuel_points                     31924 non-null int64\n",
      "groceries_points                31924 non-null int64\n",
      "toys_points                     31924 non-null int64\n",
      "cash_back_points                31924 non-null int64\n",
      "electronics                     31924 non-null int64\n",
      "complained                      31924 non-null object\n",
      "Order_tyPe                      31924 non-null object\n",
      "amount                          31711 non-null float64\n",
      "quantity                        31675 non-null float64\n",
      "card_vendor                     31924 non-null object\n",
      "used_coupon                     31924 non-null object\n",
      "product_discounted              31924 non-null object\n",
      "cust_age                        31924 non-null int64\n",
      "cust_gender                     31924 non-null object\n",
      "dtypes: float64(5), int64(7), object(10)\n",
      "memory usage: 5.4+ MB\n"
     ]
    }
   ],
   "source": [
    "# Getting more details - type and count\n",
    "df.info()"
   ]
  },
  {
   "cell_type": "markdown",
   "metadata": {},
   "source": [
    "<b>Comment:</b> We have 31,924 rows in total. If all is well each column is supposed to have 31,924 non-null values. From above some columns have nulls we need to take care of. If nulls are 1% or less we will just delete the rows with nulls else we leave out the whole column/feature."
   ]
  },
  {
   "cell_type": "code",
   "execution_count": 470,
   "metadata": {},
   "outputs": [],
   "source": [
    "# Using some colors for enhanced visibility\n",
    "import simple_colors"
   ]
  },
  {
   "cell_type": "code",
   "execution_count": 471,
   "metadata": {},
   "outputs": [
    {
     "name": "stdout",
     "output_type": "stream",
     "text": [
      "customer_registration_number \u001b[32mhas no nulls\u001b[0m\n",
      "merchandize_category \u001b[31mhas significant nulls drop column\u001b[0m\n",
      "amount_deposited_via_counter \u001b[32mhas no nulls\u001b[0m\n",
      "amount_deposited_via_card \u001b[32mhas no nulls\u001b[0m\n",
      "balance_on_complaign_date \u001b[32mhas no nulls\u001b[0m\n",
      "transaction_date \u001b[32mhas no nulls\u001b[0m\n",
      "complaint_date \u001b[32mhas no nulls\u001b[0m\n",
      "restaurant_points \u001b[32mhas no nulls\u001b[0m\n",
      "fuel_points \u001b[32mhas no nulls\u001b[0m\n",
      "groceries_points \u001b[32mhas no nulls\u001b[0m\n",
      "toys_points \u001b[32mhas no nulls\u001b[0m\n",
      "cash_back_points \u001b[32mhas no nulls\u001b[0m\n",
      "electronics \u001b[32mhas no nulls\u001b[0m\n",
      "complained \u001b[32mhas no nulls\u001b[0m\n",
      "Order_tyPe \u001b[32mhas no nulls\u001b[0m\n",
      "amount \u001b[34mhas nulls less than 1% drop rows\u001b[0m\n",
      "quantity \u001b[34mhas nulls less than 1% drop rows\u001b[0m\n",
      "card_vendor \u001b[32mhas no nulls\u001b[0m\n",
      "used_coupon \u001b[32mhas no nulls\u001b[0m\n",
      "product_discounted \u001b[32mhas no nulls\u001b[0m\n",
      "cust_age \u001b[32mhas no nulls\u001b[0m\n",
      "cust_gender \u001b[32mhas no nulls\u001b[0m\n"
     ]
    }
   ],
   "source": [
    "# Going through each feature to analyse for data completeness\n",
    "for i in df.columns:\n",
    "    if (100 * sum(df[i].isna())/df.shape[0]) == 0:\n",
    "        print (i, simple_colors.green(\"has no nulls\"))\n",
    "    elif ((100 * sum(df[i].isna())/df.shape[0]) > 0) and ((100 * sum(df[i].isna())/df.shape[0]) <= 1):\n",
    "        print (i, simple_colors.blue(\"has nulls less than 1% drop rows\"))\n",
    "    else:\n",
    "        print (i, simple_colors.red(\"has significant nulls drop column\"))"
   ]
  },
  {
   "cell_type": "code",
   "execution_count": 472,
   "metadata": {},
   "outputs": [],
   "source": [
    "# dropping merchandize category column\n",
    "df.drop(columns=['merchandize_category'], inplace=True)"
   ]
  },
  {
   "cell_type": "code",
   "execution_count": 473,
   "metadata": {},
   "outputs": [],
   "source": [
    "# dropping rows with nas\n",
    "df.dropna(inplace=True)"
   ]
  },
  {
   "cell_type": "code",
   "execution_count": 474,
   "metadata": {},
   "outputs": [
    {
     "data": {
      "text/plain": [
       "(31463, 21)"
      ]
     },
     "execution_count": 474,
     "metadata": {},
     "output_type": "execute_result"
    }
   ],
   "source": [
    "# New dataframe - reduced some rows and one column\n",
    "df.shape"
   ]
  },
  {
   "cell_type": "markdown",
   "metadata": {},
   "source": [
    "### 3. Exploratory Data Analysis"
   ]
  },
  {
   "cell_type": "markdown",
   "metadata": {},
   "source": [
    "We will try to go through some of key features to try to understand the dataset and feature's relevance ahead of fitting to the model"
   ]
  },
  {
   "cell_type": "markdown",
   "metadata": {},
   "source": [
    "<strong>complained:</strong> an outcome variable for when a customer has a complain or not"
   ]
  },
  {
   "cell_type": "code",
   "execution_count": 475,
   "metadata": {},
   "outputs": [
    {
     "data": {
      "text/plain": [
       "YES    18822\n",
       "NO     12641\n",
       "Name: complained, dtype: int64"
      ]
     },
     "execution_count": 475,
     "metadata": {},
     "output_type": "execute_result"
    }
   ],
   "source": [
    "# Number of complaints vs no complaints\n",
    "df.complained.value_counts()"
   ]
  },
  {
   "cell_type": "markdown",
   "metadata": {},
   "source": [
    "<strong>customer_registration_number:</strong> a unique identifier per customer"
   ]
  },
  {
   "cell_type": "markdown",
   "metadata": {},
   "source": [
    "From below it seems there are close to 24K customers. From the number of records some 3.7K customers have registered multiple complaints."
   ]
  },
  {
   "cell_type": "code",
   "execution_count": 476,
   "metadata": {},
   "outputs": [
    {
     "data": {
      "text/plain": [
       "23710"
      ]
     },
     "execution_count": 476,
     "metadata": {},
     "output_type": "execute_result"
    }
   ],
   "source": [
    "# Number of Customers \n",
    "df.customer_registration_number.nunique()"
   ]
  },
  {
   "cell_type": "code",
   "execution_count": 477,
   "metadata": {},
   "outputs": [
    {
     "data": {
      "text/plain": [
       "3770"
      ]
     },
     "execution_count": 477,
     "metadata": {},
     "output_type": "execute_result"
    }
   ],
   "source": [
    "# Customers who have complained more than once\n",
    "np.sum(df[df.complained == \"YES\"].customer_registration_number.duplicated())"
   ]
  },
  {
   "cell_type": "markdown",
   "metadata": {},
   "source": [
    "<strong>amount_deposited_via_counter:</strong> From below plots it seems complaint instances or customers with complaints have relatively higher amount deposited via counter compaired to non complaint instances."
   ]
  },
  {
   "cell_type": "code",
   "execution_count": 478,
   "metadata": {},
   "outputs": [
    {
     "data": {
      "text/plain": [
       "<matplotlib.axes._subplots.AxesSubplot at 0x2480a240e48>"
      ]
     },
     "execution_count": 478,
     "metadata": {},
     "output_type": "execute_result"
    },
    {
     "data": {
      "image/png": "[encoded data removed]",
      "text/plain": [
       "<Figure size 432x288 with 1 Axes>"
      ]
     },
     "metadata": {
      "needs_background": "light"
     },
     "output_type": "display_data"
    }
   ],
   "source": [
    "sns.kdeplot(df[df.complained == \"YES\"].amount_deposited_via_counter, shade=True)"
   ]
  },
  {
   "cell_type": "code",
   "execution_count": 479,
   "metadata": {},
   "outputs": [
    {
     "data": {
      "text/plain": [
       "<matplotlib.axes._subplots.AxesSubplot at 0x2480d569708>"
      ]
     },
     "execution_count": 479,
     "metadata": {},
     "output_type": "execute_result"
    },
    {
     "data": {
      "image/png": "[encoded data removed]",
      "text/plain": [
       "<Figure size 432x288 with 1 Axes>"
      ]
     },
     "metadata": {
      "needs_background": "light"
     },
     "output_type": "display_data"
    }
   ],
   "source": [
    "sns.kdeplot(df[df.complained == \"NO\"].amount_deposited_via_counter, shade=True)"
   ]
  },
  {
   "cell_type": "markdown",
   "metadata": {},
   "source": [
    "<strong>amount_deposited_via_card:</strong> From below plots it again seems customers with complaints have relatively higher amount deposited via card."
   ]
  },
  {
   "cell_type": "code",
   "execution_count": 480,
   "metadata": {},
   "outputs": [
    {
     "data": {
      "text/plain": [
       "<matplotlib.axes._subplots.AxesSubplot at 0x2480d5b7288>"
      ]
     },
     "execution_count": 480,
     "metadata": {},
     "output_type": "execute_result"
    },
    {
     "data": {
      "image/png": "[encoded data removed]",
      "text/plain": [
       "<Figure size 432x288 with 1 Axes>"
      ]
     },
     "metadata": {
      "needs_background": "light"
     },
     "output_type": "display_data"
    }
   ],
   "source": [
    "sns.kdeplot(df[df.complained == \"YES\"].amount_deposited_via_card , shade=True)"
   ]
  },
  {
   "cell_type": "code",
   "execution_count": 481,
   "metadata": {},
   "outputs": [
    {
     "data": {
      "text/plain": [
       "<matplotlib.axes._subplots.AxesSubplot at 0x2480d622788>"
      ]
     },
     "execution_count": 481,
     "metadata": {},
     "output_type": "execute_result"
    },
    {
     "data": {
      "image/png": "[encoded data removed]",
      "text/plain": [
       "<Figure size 432x288 with 1 Axes>"
      ]
     },
     "metadata": {
      "needs_background": "light"
     },
     "output_type": "display_data"
    }
   ],
   "source": [
    "sns.kdeplot(df[df.complained == \"NO\"].amount_deposited_via_card , shade=True)"
   ]
  },
  {
   "cell_type": "markdown",
   "metadata": {},
   "source": [
    "<strong>balance_on_complaign_date:</strong> Complaint customers have relatively higher balance on complaint date. Having higher balance might be the cause of complaints compaired to when customers have lower balance."
   ]
  },
  {
   "cell_type": "code",
   "execution_count": 482,
   "metadata": {},
   "outputs": [
    {
     "data": {
      "text/plain": [
       "<matplotlib.axes._subplots.AxesSubplot at 0x2480d688ec8>"
      ]
     },
     "execution_count": 482,
     "metadata": {},
     "output_type": "execute_result"
    },
    {
     "data": {
      "image/png": "[encoded data removed]",
      "text/plain": [
       "<Figure size 432x288 with 1 Axes>"
      ]
     },
     "metadata": {
      "needs_background": "light"
     },
     "output_type": "display_data"
    }
   ],
   "source": [
    "sns.kdeplot(df[df.complained == \"YES\"].balance_on_complaign_date , shade=True)"
   ]
  },
  {
   "cell_type": "code",
   "execution_count": 483,
   "metadata": {},
   "outputs": [
    {
     "data": {
      "text/plain": [
       "<matplotlib.axes._subplots.AxesSubplot at 0x2480d6e9708>"
      ]
     },
     "execution_count": 483,
     "metadata": {},
     "output_type": "execute_result"
    },
    {
     "data": {
      "image/png": "[encoded data removed]",
      "text/plain": [
       "<Figure size 432x288 with 1 Axes>"
      ]
     },
     "metadata": {
      "needs_background": "light"
     },
     "output_type": "display_data"
    }
   ],
   "source": [
    "sns.kdeplot(df[df.complained == \"NO\"].balance_on_complaign_date , shade=True)"
   ]
  },
  {
   "cell_type": "markdown",
   "metadata": {},
   "source": [
    "<strong>transaction_date:</strong> A date of actual transaction by the customer <br>\n",
    "<strong>complaint_date:</strong> A snapshot date for which stats were collected to see how many customers had complained and how many not"
   ]
  },
  {
   "cell_type": "markdown",
   "metadata": {},
   "source": [
    "As seen below: 25th April had the most complaints recorded on a single day. It was a <strong>Tuesday</strong>. But in aggregate <strong>Wednesdays</strong> have the most complaints. <strong>Sundays</strong> have least complaints."
   ]
  },
  {
   "cell_type": "code",
   "execution_count": 484,
   "metadata": {},
   "outputs": [
    {
     "data": {
      "text/plain": [
       "<matplotlib.axes._subplots.AxesSubplot at 0x2480d767988>"
      ]
     },
     "execution_count": 484,
     "metadata": {},
     "output_type": "execute_result"
    },
    {
     "data": {
      "image/png": "[encoded data removed]",
      "text/plain": [
       "<Figure size 432x288 with 1 Axes>"
      ]
     },
     "metadata": {
      "needs_background": "light"
     },
     "output_type": "display_data"
    }
   ],
   "source": [
    "# Total number of transactions by day\n",
    "\n",
    "df[df.complained == \"YES\"].transaction_date.value_counts().plot()"
   ]
  },
  {
   "cell_type": "code",
   "execution_count": 485,
   "metadata": {},
   "outputs": [
    {
     "data": {
      "text/plain": [
       "<matplotlib.axes._subplots.AxesSubplot at 0x2480d7c4808>"
      ]
     },
     "execution_count": 485,
     "metadata": {},
     "output_type": "execute_result"
    },
    {
     "data": {
      "image/png": "[encoded data removed]",
      "text/plain": [
       "<Figure size 432x288 with 1 Axes>"
      ]
     },
     "metadata": {
      "needs_background": "light"
     },
     "output_type": "display_data"
    }
   ],
   "source": [
    "# Complaints frequency by day\n",
    "\n",
    "df[df.complained == \"YES\"].complaint_date.value_counts().plot()"
   ]
  },
  {
   "cell_type": "markdown",
   "metadata": {},
   "source": [
    "As seen below, cummulatively more complaints were registered on Wednesday. This may not necessarily mean Wednesday are complaint days. The dataset given has some days skipped. The model will let us know if day of week have significant impact to complaints."
   ]
  },
  {
   "cell_type": "code",
   "execution_count": 486,
   "metadata": {},
   "outputs": [
    {
     "data": {
      "text/html": [
       "<div>\n",
       "<style scoped>\n",
       "    .dataframe tbody tr th:only-of-type {\n",
       "        vertical-align: middle;\n",
       "    }\n",
       "\n",
       "    .dataframe tbody tr th {\n",
       "        vertical-align: top;\n",
       "    }\n",
       "\n",
       "    .dataframe thead th {\n",
       "        text-align: right;\n",
       "    }\n",
       "</style>\n",
       "<table border=\"1\" class=\"dataframe\">\n",
       "  <thead>\n",
       "    <tr style=\"text-align: right;\">\n",
       "      <th></th>\n",
       "      <th>days</th>\n",
       "      <th>counts</th>\n",
       "    </tr>\n",
       "  </thead>\n",
       "  <tbody>\n",
       "    <tr>\n",
       "      <td>0</td>\n",
       "      <td>Friday</td>\n",
       "      <td>3643</td>\n",
       "    </tr>\n",
       "    <tr>\n",
       "      <td>1</td>\n",
       "      <td>Monday</td>\n",
       "      <td>2635</td>\n",
       "    </tr>\n",
       "    <tr>\n",
       "      <td>2</td>\n",
       "      <td>Saturday</td>\n",
       "      <td>1256</td>\n",
       "    </tr>\n",
       "    <tr>\n",
       "      <td>3</td>\n",
       "      <td>Sunday</td>\n",
       "      <td>485</td>\n",
       "    </tr>\n",
       "    <tr>\n",
       "      <td>4</td>\n",
       "      <td>Thursday</td>\n",
       "      <td>3130</td>\n",
       "    </tr>\n",
       "    <tr>\n",
       "      <td>5</td>\n",
       "      <td>Tuesday</td>\n",
       "      <td>3650</td>\n",
       "    </tr>\n",
       "    <tr>\n",
       "      <td>6</td>\n",
       "      <td>Wednesday</td>\n",
       "      <td>4023</td>\n",
       "    </tr>\n",
       "  </tbody>\n",
       "</table>\n",
       "</div>"
      ],
      "text/plain": [
       "        days  counts\n",
       "0     Friday    3643\n",
       "1     Monday    2635\n",
       "2   Saturday    1256\n",
       "3     Sunday     485\n",
       "4   Thursday    3130\n",
       "5    Tuesday    3650\n",
       "6  Wednesday    4023"
      ]
     },
     "execution_count": 486,
     "metadata": {},
     "output_type": "execute_result"
    }
   ],
   "source": [
    "complain_stats = pd.to_datetime(df[df.complained == \"YES\"].complaint_date.values).day_name().values\n",
    "unique, frequency = np.unique(complain_stats, return_counts = True)\n",
    "\n",
    "complain_stats=pd.DataFrame(frequency, unique).reset_index()\n",
    "\n",
    "complain_stats=complain_stats.rename(columns = {'index':'days', 0:'counts'})\n",
    "complain_stats"
   ]
  },
  {
   "cell_type": "markdown",
   "metadata": {},
   "source": [
    "<strong>amount:</strong> It is clear from kernel distribution plots below that complaint instances are linked to significantly higher amounts compared to non complaint instances."
   ]
  },
  {
   "cell_type": "code",
   "execution_count": 487,
   "metadata": {},
   "outputs": [
    {
     "data": {
      "text/plain": [
       "<matplotlib.axes._subplots.AxesSubplot at 0x2480d829108>"
      ]
     },
     "execution_count": 487,
     "metadata": {},
     "output_type": "execute_result"
    },
    {
     "data": {
      "image/png": "[encoded data removed]",
      "text/plain": [
       "<Figure size 432x288 with 1 Axes>"
      ]
     },
     "metadata": {
      "needs_background": "light"
     },
     "output_type": "display_data"
    }
   ],
   "source": [
    "sns.kdeplot(df[df.complained == \"YES\"].amount , shade=True)"
   ]
  },
  {
   "cell_type": "code",
   "execution_count": 488,
   "metadata": {},
   "outputs": [
    {
     "data": {
      "text/plain": [
       "<matplotlib.axes._subplots.AxesSubplot at 0x2480e44f8c8>"
      ]
     },
     "execution_count": 488,
     "metadata": {},
     "output_type": "execute_result"
    },
    {
     "data": {
      "image/png": "[encoded data removed]",
      "text/plain": [
       "<Figure size 432x288 with 1 Axes>"
      ]
     },
     "metadata": {
      "needs_background": "light"
     },
     "output_type": "display_data"
    }
   ],
   "source": [
    "sns.kdeplot(df[df.complained == \"NO\"].amount , shade=True)"
   ]
  },
  {
   "cell_type": "markdown",
   "metadata": {},
   "source": [
    "<strong>quantity:</strong> Complaint instances also seem to be attached to relatively larger quantities. "
   ]
  },
  {
   "cell_type": "code",
   "execution_count": 489,
   "metadata": {},
   "outputs": [
    {
     "data": {
      "text/plain": [
       "<matplotlib.axes._subplots.AxesSubplot at 0x2480d9e7748>"
      ]
     },
     "execution_count": 489,
     "metadata": {},
     "output_type": "execute_result"
    },
    {
     "data": {
      "image/png": "[encoded data removed]",
      "text/plain": [
       "<Figure size 432x288 with 1 Axes>"
      ]
     },
     "metadata": {
      "needs_background": "light"
     },
     "output_type": "display_data"
    }
   ],
   "source": [
    "sns.kdeplot(df[df.complained == \"YES\"].quantity , shade=True)"
   ]
  },
  {
   "cell_type": "code",
   "execution_count": 490,
   "metadata": {},
   "outputs": [
    {
     "data": {
      "text/plain": [
       "<matplotlib.axes._subplots.AxesSubplot at 0x2480e491088>"
      ]
     },
     "execution_count": 490,
     "metadata": {},
     "output_type": "execute_result"
    },
    {
     "data": {
      "image/png": "[encoded data removed]",
      "text/plain": [
       "<Figure size 432x288 with 1 Axes>"
      ]
     },
     "metadata": {
      "needs_background": "light"
     },
     "output_type": "display_data"
    }
   ],
   "source": [
    "sns.kdeplot(df[df.complained == \"NO\"].quantity , shade=True)"
   ]
  },
  {
   "cell_type": "markdown",
   "metadata": {},
   "source": [
    "<strong> card-vendor:</strong> About 93% of complaints cases are linked to Visa. Looking at distribution for non-complaint cases we learn that using Visa does not necessarily guarantee a customer will complain. Generally it's just that the dataset has more Visa users that Mastercard users."
   ]
  },
  {
   "cell_type": "code",
   "execution_count": 491,
   "metadata": {},
   "outputs": [
    {
     "data": {
      "text/plain": [
       "Visa          17420\n",
       "Mastercard     1402\n",
       "Name: card_vendor, dtype: int64"
      ]
     },
     "execution_count": 491,
     "metadata": {},
     "output_type": "execute_result"
    }
   ],
   "source": [
    "df[df.complained == \"YES\"].card_vendor.value_counts()"
   ]
  },
  {
   "cell_type": "code",
   "execution_count": 492,
   "metadata": {},
   "outputs": [
    {
     "data": {
      "text/plain": [
       "Visa          10718\n",
       "Mastercard     1923\n",
       "Name: card_vendor, dtype: int64"
      ]
     },
     "execution_count": 492,
     "metadata": {},
     "output_type": "execute_result"
    }
   ],
   "source": [
    "df[df.complained == \"NO\"].card_vendor.value_counts()"
   ]
  },
  {
   "cell_type": "markdown",
   "metadata": {},
   "source": [
    "<strong>used_coupon:</strong> This is same as above. Not being a coupon user does not necessarily guarantee a customer will complain or not. We will determine its importance from the model."
   ]
  },
  {
   "cell_type": "code",
   "execution_count": 493,
   "metadata": {},
   "outputs": [
    {
     "data": {
      "text/plain": [
       "No     18475\n",
       "Yes      347\n",
       "Name: used_coupon, dtype: int64"
      ]
     },
     "execution_count": 493,
     "metadata": {},
     "output_type": "execute_result"
    }
   ],
   "source": [
    "df[df.complained == \"YES\"].used_coupon.value_counts()"
   ]
  },
  {
   "cell_type": "code",
   "execution_count": 494,
   "metadata": {},
   "outputs": [
    {
     "data": {
      "text/plain": [
       "No     11837\n",
       "Yes      804\n",
       "Name: used_coupon, dtype: int64"
      ]
     },
     "execution_count": 494,
     "metadata": {},
     "output_type": "execute_result"
    }
   ],
   "source": [
    "df[df.complained == \"NO\"].used_coupon.value_counts()"
   ]
  },
  {
   "cell_type": "markdown",
   "metadata": {},
   "source": [
    "<strong>product_discounted:</strong>"
   ]
  },
  {
   "cell_type": "code",
   "execution_count": 495,
   "metadata": {},
   "outputs": [
    {
     "data": {
      "text/plain": [
       "no     17289\n",
       "YEs     1533\n",
       "Name: product_discounted, dtype: int64"
      ]
     },
     "execution_count": 495,
     "metadata": {},
     "output_type": "execute_result"
    }
   ],
   "source": [
    "df[df.complained == \"YES\"].product_discounted.value_counts()"
   ]
  },
  {
   "cell_type": "code",
   "execution_count": 496,
   "metadata": {},
   "outputs": [
    {
     "data": {
      "text/plain": [
       "no     10509\n",
       "YEs     2132\n",
       "Name: product_discounted, dtype: int64"
      ]
     },
     "execution_count": 496,
     "metadata": {},
     "output_type": "execute_result"
    }
   ],
   "source": [
    "df[df.complained == \"NO\"].product_discounted.value_counts()"
   ]
  },
  {
   "cell_type": "markdown",
   "metadata": {},
   "source": [
    "<strong>cust_age:</strong> Median age for both complaint and non-complaint customers is 49."
   ]
  },
  {
   "cell_type": "code",
   "execution_count": 497,
   "metadata": {},
   "outputs": [
    {
     "data": {
      "text/plain": [
       "<matplotlib.axes._subplots.AxesSubplot at 0x2480e537b08>"
      ]
     },
     "execution_count": 497,
     "metadata": {},
     "output_type": "execute_result"
    },
    {
     "data": {
      "image/png": "[encoded data removed]",
      "text/plain": [
       "<Figure size 432x288 with 1 Axes>"
      ]
     },
     "metadata": {
      "needs_background": "light"
     },
     "output_type": "display_data"
    }
   ],
   "source": [
    "sns.kdeplot(df[df.complained == \"YES\"].cust_age , shade=True)"
   ]
  },
  {
   "cell_type": "code",
   "execution_count": 498,
   "metadata": {},
   "outputs": [
    {
     "data": {
      "text/plain": [
       "<matplotlib.axes._subplots.AxesSubplot at 0x2480e5b4988>"
      ]
     },
     "execution_count": 498,
     "metadata": {},
     "output_type": "execute_result"
    },
    {
     "data": {
      "image/png": "[encoded data removed]",
      "text/plain": [
       "<Figure size 432x288 with 1 Axes>"
      ]
     },
     "metadata": {
      "needs_background": "light"
     },
     "output_type": "display_data"
    }
   ],
   "source": [
    "sns.kdeplot(df[df.complained == \"NO\"].cust_age , shade=True)"
   ]
  },
  {
   "cell_type": "code",
   "execution_count": 499,
   "metadata": {},
   "outputs": [
    {
     "data": {
      "text/plain": [
       "49.0"
      ]
     },
     "execution_count": 499,
     "metadata": {},
     "output_type": "execute_result"
    }
   ],
   "source": [
    "np.median(df[df.complained == \"YES\"].cust_age)"
   ]
  },
  {
   "cell_type": "code",
   "execution_count": 500,
   "metadata": {},
   "outputs": [
    {
     "data": {
      "text/plain": [
       "49.0"
      ]
     },
     "execution_count": 500,
     "metadata": {},
     "output_type": "execute_result"
    }
   ],
   "source": [
    "np.median(df[df.complained == \"NO\"].cust_age)"
   ]
  },
  {
   "cell_type": "markdown",
   "metadata": {},
   "source": [
    "Preparing dataframe ready for Fitting"
   ]
  },
  {
   "cell_type": "markdown",
   "metadata": {},
   "source": [
    "### 4. Feature Engineering"
   ]
  },
  {
   "cell_type": "markdown",
   "metadata": {},
   "source": [
    "<strong>Feature Scaling:</strong> Because we are going to use Random Forest which is not sensitive to outliers, feature scaling is not necessary. If we were to use another model that is sensitive to outliers we would need to scale features associated with outliers in our dataset eg: amount, quantity"
   ]
  },
  {
   "cell_type": "markdown",
   "metadata": {},
   "source": [
    "<strong>Dimensionality Reduction:</strong> From EDA we have learned that not all features are needed to train the model/discover patterns. Here we will try to remove those that are not relevant."
   ]
  },
  {
   "cell_type": "code",
   "execution_count": 501,
   "metadata": {},
   "outputs": [],
   "source": [
    "# Remove customer registration number. This feature would only cause overfitting\n",
    "df_eng = df.drop(columns=['customer_registration_number'])"
   ]
  },
  {
   "cell_type": "markdown",
   "metadata": {},
   "source": [
    "<strong>Feature Extraction:</strong> Some features will need to be combined to result into more meaningful features"
   ]
  },
  {
   "cell_type": "code",
   "execution_count": 502,
   "metadata": {},
   "outputs": [],
   "source": [
    "# Instead of having dates we can try to know how long before customer file complaints from transaction date\n",
    "duration = (pd.to_datetime(df.complaint_date) - pd.to_datetime(df.transaction_date)).dt.days\n",
    "\n",
    "df_eng.insert(df.columns.get_loc(\"complaint_date\"), 'days_until_complaint', duration)"
   ]
  },
  {
   "cell_type": "code",
   "execution_count": 503,
   "metadata": {},
   "outputs": [],
   "source": [
    "# Also, we can add info to know which day complaint was filed\n",
    "\n",
    "day = pd.to_datetime(df.complaint_date).dt.day_name()\n",
    "\n",
    "df_eng.insert(df.columns.get_loc(\"complaint_date\"), 'complaint_day', day)"
   ]
  },
  {
   "cell_type": "code",
   "execution_count": 504,
   "metadata": {},
   "outputs": [],
   "source": [
    "# Removing date columns\n",
    "\n",
    "df_eng.drop(columns=['transaction_date', 'complaint_date'], inplace=True)"
   ]
  },
  {
   "cell_type": "markdown",
   "metadata": {},
   "source": [
    "<strong>Feature Encoding:</strong> To improve performance it's best to work with numeric datatypes. "
   ]
  },
  {
   "cell_type": "code",
   "execution_count": 505,
   "metadata": {},
   "outputs": [
    {
     "data": {
      "text/plain": [
       "array(['Other', 'Pickup', 'Walk In', 'Order via website',\n",
       "       'sender_mno_Airtel', 'via app', 'sender_mno_TTCL'], dtype=object)"
      ]
     },
     "execution_count": 505,
     "metadata": {},
     "output_type": "execute_result"
    }
   ],
   "source": [
    "df_eng.Order_tyPe.unique()"
   ]
  },
  {
   "cell_type": "code",
   "execution_count": 506,
   "metadata": {},
   "outputs": [],
   "source": [
    "# Encode using integer values 1 to 7\n",
    "df_eng.Order_tyPe.replace(\"Other\", 1, inplace=True)\n",
    "df_eng.Order_tyPe.replace(\"Pickup\", 2, inplace=True)\n",
    "df_eng.Order_tyPe.replace(\"Walk In\", 3, inplace=True)\n",
    "df_eng.Order_tyPe.replace(\"Order via website\", 4, inplace=True)\n",
    "df_eng.Order_tyPe.replace(\"sender_mno_Airtel\", 5, inplace=True)\n",
    "df_eng.Order_tyPe.replace(\"via app\", 6, inplace=True)\n",
    "df_eng.Order_tyPe.replace(\"sender_mno_TTCL\", 7, inplace=True)"
   ]
  },
  {
   "cell_type": "code",
   "execution_count": 507,
   "metadata": {},
   "outputs": [
    {
     "data": {
      "text/plain": [
       "array([1, 2, 3, 4, 5, 6, 7], dtype=int64)"
      ]
     },
     "execution_count": 507,
     "metadata": {},
     "output_type": "execute_result"
    }
   ],
   "source": [
    "df_eng.Order_tyPe.unique()"
   ]
  },
  {
   "cell_type": "code",
   "execution_count": 508,
   "metadata": {},
   "outputs": [],
   "source": [
    "# Change all features with Yes and No to uppercase\n",
    "df_eng.complained = df_eng.complained.apply(str.upper)\n",
    "df_eng.used_coupon = df_eng.used_coupon.apply(str.upper)\n",
    "df_eng.product_discounted = df_eng.product_discounted.apply(str.upper)"
   ]
  },
  {
   "cell_type": "code",
   "execution_count": 509,
   "metadata": {},
   "outputs": [],
   "source": [
    "# Replace all Yes with 1\n",
    "df_eng.complained.replace(\"YES\", 1, inplace=True)\n",
    "df_eng.used_coupon.replace(\"YES\", 1, inplace=True)\n",
    "df_eng.product_discounted.replace(\"YES\", 1, inplace=True)"
   ]
  },
  {
   "cell_type": "code",
   "execution_count": 510,
   "metadata": {},
   "outputs": [],
   "source": [
    "# Replace all No's with 0\n",
    "df_eng.complained.replace(\"NO\", 0, inplace=True)\n",
    "df_eng.used_coupon.replace(\"NO\", 0, inplace=True)\n",
    "df_eng.product_discounted.replace(\"NO\", 0, inplace=True)"
   ]
  },
  {
   "cell_type": "code",
   "execution_count": 511,
   "metadata": {},
   "outputs": [],
   "source": [
    "# Encode complaints days\n",
    "df_eng.complaint_day.replace(\"Monday\", 1, inplace=True)\n",
    "df_eng.complaint_day.replace(\"Tuesday\", 2, inplace=True)\n",
    "df_eng.complaint_day.replace(\"Wednesday\", 3, inplace=True)\n",
    "df_eng.complaint_day.replace(\"Thursday\", 4, inplace=True)\n",
    "df_eng.complaint_day.replace(\"Friday\", 5, inplace=True)\n",
    "df_eng.complaint_day.replace(\"Saturday\", 6, inplace=True)\n",
    "df_eng.complaint_day.replace(\"Sunday\", 7, inplace=True)"
   ]
  },
  {
   "cell_type": "code",
   "execution_count": 512,
   "metadata": {},
   "outputs": [],
   "source": [
    "# Encode card vendor\n",
    "\n",
    "df_eng.card_vendor.replace(\"Visa\", 1, inplace=True)\n",
    "df_eng.card_vendor.replace(\"Mastercard\", 2, inplace=True)"
   ]
  },
  {
   "cell_type": "code",
   "execution_count": 513,
   "metadata": {},
   "outputs": [],
   "source": [
    "# Encode gender\n",
    "df_eng.cust_gender.replace(\"Female\", 1, inplace=True)\n",
    "df_eng.cust_gender.replace(\"Male\", 2, inplace=True)"
   ]
  },
  {
   "cell_type": "code",
   "execution_count": 514,
   "metadata": {},
   "outputs": [
    {
     "name": "stdout",
     "output_type": "stream",
     "text": [
      "<class 'pandas.core.frame.DataFrame'>\n",
      "Int64Index: 31463 entries, 0 to 31923\n",
      "Data columns (total 20 columns):\n",
      "amount_deposited_via_counter    31463 non-null float64\n",
      "amount_deposited_via_card       31463 non-null float64\n",
      "balance_on_complaign_date       31463 non-null float64\n",
      "complaint_day                   31463 non-null int64\n",
      "days_until_complaint            31463 non-null int64\n",
      "restaurant_points               31463 non-null int64\n",
      "fuel_points                     31463 non-null int64\n",
      "groceries_points                31463 non-null int64\n",
      "toys_points                     31463 non-null int64\n",
      "cash_back_points                31463 non-null int64\n",
      "electronics                     31463 non-null int64\n",
      "complained                      31463 non-null int64\n",
      "Order_tyPe                      31463 non-null int64\n",
      "amount                          31463 non-null float64\n",
      "quantity                        31463 non-null float64\n",
      "card_vendor                     31463 non-null int64\n",
      "used_coupon                     31463 non-null int64\n",
      "product_discounted              31463 non-null int64\n",
      "cust_age                        31463 non-null int64\n",
      "cust_gender                     31463 non-null int64\n",
      "dtypes: float64(5), int64(15)\n",
      "memory usage: 5.0 MB\n"
     ]
    }
   ],
   "source": [
    "# We now have a clean dataframe ready for train\n",
    "df_eng.info()"
   ]
  },
  {
   "cell_type": "markdown",
   "metadata": {},
   "source": [
    "### 5. Model Fitting"
   ]
  },
  {
   "cell_type": "code",
   "execution_count": 515,
   "metadata": {},
   "outputs": [],
   "source": [
    "from sklearn.model_selection import StratifiedShuffleSplit\n",
    "from sklearn.metrics import classification_report, confusion_matrix\n",
    "from sklearn.ensemble import RandomForestClassifier"
   ]
  },
  {
   "cell_type": "code",
   "execution_count": 516,
   "metadata": {},
   "outputs": [],
   "source": [
    "# Copy the dataframe\n",
    "df_rd = df_eng.copy()"
   ]
  },
  {
   "cell_type": "code",
   "execution_count": 517,
   "metadata": {},
   "outputs": [
    {
     "name": "stdout",
     "output_type": "stream",
     "text": [
      "<class 'pandas.core.frame.DataFrame'>\n",
      "Int64Index: 31463 entries, 0 to 31923\n",
      "Data columns (total 20 columns):\n",
      "amount_deposited_via_counter    31463 non-null float64\n",
      "amount_deposited_via_card       31463 non-null float64\n",
      "balance_on_complaign_date       31463 non-null float64\n",
      "complaint_day                   31463 non-null int64\n",
      "days_until_complaint            31463 non-null int64\n",
      "restaurant_points               31463 non-null int64\n",
      "fuel_points                     31463 non-null int64\n",
      "groceries_points                31463 non-null int64\n",
      "toys_points                     31463 non-null int64\n",
      "cash_back_points                31463 non-null int64\n",
      "electronics                     31463 non-null int64\n",
      "complained                      31463 non-null int64\n",
      "Order_tyPe                      31463 non-null int64\n",
      "amount                          31463 non-null float64\n",
      "quantity                        31463 non-null float64\n",
      "card_vendor                     31463 non-null int64\n",
      "used_coupon                     31463 non-null int64\n",
      "product_discounted              31463 non-null int64\n",
      "cust_age                        31463 non-null int64\n",
      "cust_gender                     31463 non-null int64\n",
      "dtypes: float64(5), int64(15)\n",
      "memory usage: 5.0 MB\n"
     ]
    }
   ],
   "source": [
    "df_rd.info()"
   ]
  },
  {
   "cell_type": "markdown",
   "metadata": {},
   "source": [
    "<strong>Stratified Random Sampling (SRS):</strong> Preparing train and test data. We use SRS to maintain distribution of outcome variable in train and test"
   ]
  },
  {
   "cell_type": "code",
   "execution_count": 518,
   "metadata": {},
   "outputs": [],
   "source": [
    "# First we need to have our data split into train and test. \n",
    "\n",
    "split = StratifiedShuffleSplit(n_splits=1, test_size=0.2, random_state=42) # Create a split instance \n",
    "for train_index, test_index in split.split(df_rd, df_rd[\"complained\"]):\n",
    "    strat_train_set = df_rd.iloc[train_index]\n",
    "    strat_test_set = df_rd.iloc[test_index]"
   ]
  },
  {
   "cell_type": "markdown",
   "metadata": {},
   "source": [
    "<strong>Model Fitting:</strong> We are going to fit our dataset on a Random Forest algorithm. <br>\n",
    "Instead of pre-defining model's hyperparameters we are going to use grid search to get the best hyperperameters"
   ]
  },
  {
   "cell_type": "code",
   "execution_count": 519,
   "metadata": {},
   "outputs": [],
   "source": [
    "rf = RandomForestClassifier(random_state=42, n_jobs=-1)\n",
    "\n",
    "params={\n",
    "   'max_depth': [2,3,5,10,20],\n",
    "   'min_samples_leaf': [5,10,20,50,100,200],\n",
    "   'n_estimators': [10, 25, 30, 50, 100, 200]\n",
    "}\n",
    "\n",
    "# Hyperparameter tuning with GridSearch\n",
    "\n",
    "from sklearn.model_selection import GridSearchCV\n",
    "\n",
    "grid_search = GridSearchCV(estimator=rf,\n",
    "                          param_grid=params,\n",
    "                          cv=4,\n",
    "                          n_jobs=-1, verbose=1, scoring=\"accuracy\")"
   ]
  },
  {
   "cell_type": "code",
   "execution_count": 520,
   "metadata": {},
   "outputs": [
    {
     "name": "stdout",
     "output_type": "stream",
     "text": [
      "Fitting 4 folds for each of 180 candidates, totalling 720 fits\n"
     ]
    },
    {
     "name": "stderr",
     "output_type": "stream",
     "text": [
      "[Parallel(n_jobs=-1)]: Using backend LokyBackend with 8 concurrent workers.\n",
      "[Parallel(n_jobs=-1)]: Done  34 tasks      | elapsed:   13.6s\n",
      "[Parallel(n_jobs=-1)]: Done 184 tasks      | elapsed:   24.7s\n",
      "[Parallel(n_jobs=-1)]: Done 434 tasks      | elapsed:   53.0s\n",
      "[Parallel(n_jobs=-1)]: Done 720 out of 720 | elapsed:  1.7min finished\n"
     ]
    },
    {
     "name": "stdout",
     "output_type": "stream",
     "text": [
      "Wall time: 1min 44s\n"
     ]
    },
    {
     "data": {
      "text/plain": [
       "GridSearchCV(cv=4, error_score='raise-deprecating',\n",
       "             estimator=RandomForestClassifier(bootstrap=True, class_weight=None,\n",
       "                                              criterion='gini', max_depth=None,\n",
       "                                              max_features='auto',\n",
       "                                              max_leaf_nodes=None,\n",
       "                                              min_impurity_decrease=0.0,\n",
       "                                              min_impurity_split=None,\n",
       "                                              min_samples_leaf=1,\n",
       "                                              min_samples_split=2,\n",
       "                                              min_weight_fraction_leaf=0.0,\n",
       "                                              n_estimators='warn', n_jobs=-1,\n",
       "                                              oob_score=False, random_state=42,\n",
       "                                              verbose=0, warm_start=False),\n",
       "             iid='warn', n_jobs=-1,\n",
       "             param_grid={'max_depth': [2, 3, 5, 10, 20],\n",
       "                         'min_samples_leaf': [5, 10, 20, 50, 100, 200],\n",
       "                         'n_estimators': [10, 25, 30, 50, 100, 200]},\n",
       "             pre_dispatch='2*n_jobs', refit=True, return_train_score=False,\n",
       "             scoring='accuracy', verbose=1)"
      ]
     },
     "execution_count": 520,
     "metadata": {},
     "output_type": "execute_result"
    }
   ],
   "source": [
    "%%time\n",
    "grid_search.fit(X_train, y_train)"
   ]
  },
  {
   "cell_type": "markdown",
   "metadata": {},
   "source": [
    "### 6. Model Evaluation"
   ]
  },
  {
   "cell_type": "code",
   "execution_count": 521,
   "metadata": {},
   "outputs": [
    {
     "name": "stdout",
     "output_type": "stream",
     "text": [
      "OOB:  80.0 %\n"
     ]
    }
   ],
   "source": [
    "# Using out of bag score the model communicates how well it has learned\n",
    "print (\"OOB: \", round(grid_search.best_score_*100, 0), \"%\")"
   ]
  },
  {
   "cell_type": "code",
   "execution_count": 522,
   "metadata": {},
   "outputs": [
    {
     "data": {
      "text/plain": [
       "RandomForestClassifier(bootstrap=True, class_weight=None, criterion='gini',\n",
       "                       max_depth=20, max_features='auto', max_leaf_nodes=None,\n",
       "                       min_impurity_decrease=0.0, min_impurity_split=None,\n",
       "                       min_samples_leaf=5, min_samples_split=2,\n",
       "                       min_weight_fraction_leaf=0.0, n_estimators=100,\n",
       "                       n_jobs=-1, oob_score=False, random_state=42, verbose=0,\n",
       "                       warm_start=False)"
      ]
     },
     "execution_count": 522,
     "metadata": {},
     "output_type": "execute_result"
    }
   ],
   "source": [
    "# Getting best estimator details from Grid search\n",
    "rf_best = grid_search.best_estimator_\n",
    "rf_best"
   ]
  },
  {
   "cell_type": "markdown",
   "metadata": {},
   "source": [
    "<strong>Feature Importance: </strong> To know which feature had more weight or had strong correlation to outcome variable (complain) see below:"
   ]
  },
  {
   "cell_type": "code",
   "execution_count": 523,
   "metadata": {},
   "outputs": [
    {
     "data": {
      "image/png": "[encoded data removed]",
      "text/plain": [
       "<Figure size 2160x1728 with 1 Axes>"
      ]
     },
     "metadata": {
      "needs_background": "light"
     },
     "output_type": "display_data"
    }
   ],
   "source": [
    "# View Feature Importance scores\n",
    "\n",
    "feature_scores = pd.Series(grid_search.best_estimator_.feature_importances_, index=X_train.columns).sort_values(ascending=False)\n",
    "\n",
    "# Creating a seaborn bar plot\n",
    "\n",
    "f, ax = plt.subplots(figsize=(30, 24))\n",
    "ax = sns.barplot(x=feature_scores, y=feature_scores.index, data=df)\n",
    "ax.set_title(\"Visualize feature scores of the features\")\n",
    "ax.set_yticklabels(feature_scores.index)\n",
    "ax.set_xlabel(\"Feature importance score\")\n",
    "ax.set_ylabel(\"Features\")\n",
    "plt.show()"
   ]
  },
  {
   "cell_type": "markdown",
   "metadata": {},
   "source": [
    "Adding context to the results using <strong>Confusion Matrix</strong>"
   ]
  },
  {
   "cell_type": "code",
   "execution_count": 524,
   "metadata": {},
   "outputs": [],
   "source": [
    "X_test = strat_test_set.loc[:, strat_test_set.columns!='complained']\n",
    "\n",
    "y_pred_rf = grid_search.predict(X_test)"
   ]
  },
  {
   "cell_type": "code",
   "execution_count": 525,
   "metadata": {},
   "outputs": [
    {
     "data": {
      "image/png": "[encoded data removed]",
      "text/plain": [
       "<Figure size 288x288 with 1 Axes>"
      ]
     },
     "metadata": {
      "needs_background": "light"
     },
     "output_type": "display_data"
    }
   ],
   "source": [
    "# Plot confusion matrix\n",
    "\n",
    "cm = confusion_matrix(strat_test_set['complained'], y_pred_rf)\n",
    "\n",
    "fig, ax = plt.subplots(figsize=(4, 4))\n",
    "ax.imshow(cm)\n",
    "ax.grid(False)\n",
    "ax.xaxis.set(ticks=(0, 1), ticklabels=('Predicted 0s', 'Predicted 1s'))\n",
    "ax.yaxis.set(ticks=(0, 1), ticklabels=('Actual 0s', 'Actual 1s'))\n",
    "ax.set_ylim(1.5, -0.5)\n",
    "for i in range(2):\n",
    "    for j in range(2):\n",
    "        ax.text(j, i, cm[i, j], ha='center', va='center', color='red')\n",
    "plt.show()"
   ]
  },
  {
   "cell_type": "code",
   "execution_count": 526,
   "metadata": {},
   "outputs": [
    {
     "name": "stdout",
     "output_type": "stream",
     "text": [
      "              precision    recall  f1-score   support\n",
      "\n",
      "           0       0.81      0.68      0.74      2528\n",
      "           1       0.81      0.89      0.85      3765\n",
      "\n",
      "    accuracy                           0.81      6293\n",
      "   macro avg       0.81      0.79      0.79      6293\n",
      "weighted avg       0.81      0.81      0.80      6293\n",
      "\n"
     ]
    }
   ],
   "source": [
    "# Classification report\n",
    "print(classification_report(strat_test_set['complained'], y_pred_rf))"
   ]
  },
  {
   "cell_type": "markdown",
   "metadata": {},
   "source": [
    "<strong>Conclusion:</strong> From the dataset given, we have developed a Random Forest model that can predict a complaint when there is one by <strong>81%</strong> accuracy. "
   ]
  },
  {
   "cell_type": "code",
   "execution_count": null,
   "metadata": {},
   "outputs": [],
   "source": []
  }
 ],
 "metadata": {
  "kernelspec": {
   "display_name": "Python 3",
   "language": "python",
   "name": "python3"
  },
  "language_info": {
   "codemirror_mode": {
    "name": "ipython",
    "version": 3
   },
   "file_extension": ".py",
   "mimetype": "text/x-python",
   "name": "python",
   "nbconvert_exporter": "python",
   "pygments_lexer": "ipython3",
   "version": "3.7.4"
  }
 },
 "nbformat": 4,
 "nbformat_minor": 2
}
